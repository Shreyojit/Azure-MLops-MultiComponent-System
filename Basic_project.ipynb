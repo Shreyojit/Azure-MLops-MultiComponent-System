{
  "cells": [
    {
      "cell_type": "code",
      "source": [
        "from azureml.core import Workspace"
      ],
      "outputs": [],
      "execution_count": 1,
      "metadata": {
        "gather": {
          "logged": 1737546912181
        }
      }
    },
    {
      "cell_type": "code",
      "source": [
        "ws1 = Workspace.from_config()\n",
        "print(ws1.subscription_id,ws1._workspace_name)"
      ],
      "outputs": [
        {
          "output_type": "stream",
          "name": "stdout",
          "text": "Performing interactive authentication. Please follow the instructions on the terminal.\nInteractive authentication successfully completed.\n7b8ef4c6-77cc-453a-81db-0c0c47f97eca mlops-wp\n"
        },
        {
          "output_type": "stream",
          "name": "stderr",
          "text": "To sign in, use a web browser to open the page https://microsoft.com/devicelogin and enter the code N4LBNVWGW to authenticate.\n"
        }
      ],
      "execution_count": 2,
      "metadata": {
        "gather": {
          "logged": 1737547043400
        }
      }
    },
    {
      "cell_type": "code",
      "source": [
        "print(ws1.resource_group)"
      ],
      "outputs": [
        {
          "output_type": "stream",
          "name": "stdout",
          "text": "mlops-learn\n"
        }
      ],
      "execution_count": 3,
      "metadata": {
        "gather": {
          "logged": 1737547098276
        }
      }
    },
    {
      "cell_type": "code",
      "source": [],
      "outputs": [],
      "execution_count": null,
      "metadata": {}
    }
  ],
  "metadata": {
    "kernelspec": {
      "name": "python310-sdkv2",
      "language": "python",
      "display_name": "Python 3.10 - SDK v2"
    },
    "language_info": {
      "name": "python",
      "version": "3.10.14",
      "mimetype": "text/x-python",
      "codemirror_mode": {
        "name": "ipython",
        "version": 3
      },
      "pygments_lexer": "ipython3",
      "nbconvert_exporter": "python",
      "file_extension": ".py"
    },
    "microsoft": {
      "ms_spell_check": {
        "ms_spell_check_language": "en"
      }
    },
    "kernel_info": {
      "name": "python310-sdkv2"
    },
    "nteract": {
      "version": "nteract-front-end@1.0.0"
    }
  },
  "nbformat": 4,
  "nbformat_minor": 2
}